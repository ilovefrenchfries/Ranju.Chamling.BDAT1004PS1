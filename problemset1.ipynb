{
 "cells": [
  {
   "cell_type": "markdown",
   "id": "a248f70b",
   "metadata": {},
   "source": [
    "### BDAT 1004 Problem set 1"
   ]
  },
  {
   "cell_type": "markdown",
   "id": "cf069214",
   "metadata": {},
   "source": [
    "# Question no. 1"
   ]
  },
  {
   "cell_type": "code",
   "execution_count": 1,
   "id": "42e2ae43",
   "metadata": {},
   "outputs": [],
   "source": [
    "# a. 5=> integer\n",
    "# b. 5.0 => float\n",
    "# c. 5>1 => bool\n",
    "# d. '5' => string\n",
    "# e. 5 * 2 => integer\n",
    "# f. '5' * 2 => string\n",
    "# g. '5' + '2' => string\n",
    "# h. 5 / 2 => float\n",
    "# i. 5 % 2 => integer\n",
    "# j. {5,2,1} =>array\n",
    "# k. 5 == 3 => bool\n",
    "# l. Pi(the number) =>float"
   ]
  },
  {
   "cell_type": "markdown",
   "id": "059b8ade",
   "metadata": {},
   "source": [
    "# Question no.2"
   ]
  },
  {
   "cell_type": "code",
   "execution_count": 14,
   "id": "6f47ef97",
   "metadata": {},
   "outputs": [
    {
     "name": "stdout",
     "output_type": "stream",
     "text": [
      "There are 34 letters in Supercalifragilisticexpialidocious\n"
     ]
    }
   ],
   "source": [
    "# a.\n",
    "string = 'Supercalifragilisticexpialidocious'\n",
    "length = len(string)\n",
    "print('There are', length, 'letters in Supercalifragilisticexpialidocious')"
   ]
  },
  {
   "cell_type": "code",
   "execution_count": 12,
   "id": "b494745c",
   "metadata": {},
   "outputs": [
    {
     "name": "stdout",
     "output_type": "stream",
     "text": [
      "True\n"
     ]
    }
   ],
   "source": [
    "#b.\n",
    "string = 'Supercalifragilisticexpialidocious'\n",
    "if 'ice' in string:\n",
    " print('True')\n",
    "else:\n",
    " print('False')\n"
   ]
  },
  {
   "cell_type": "code",
   "execution_count": 13,
   "id": "1ef6557b",
   "metadata": {},
   "outputs": [
    {
     "name": "stdout",
     "output_type": "stream",
     "text": [
      "Supercalifragilisticexpialidocious is the longest word\n"
     ]
    }
   ],
   "source": [
    "#c.\n",
    "string1 = 'Supercalifragilisticexpialidocious'\n",
    "string2 = 'Honorificabilitudinitatibus'\n",
    "string3 = 'Bababadalgharaghtakamminarronnkonn'\n",
    "if len(string1) >= len(string2) and len(string1) >= len(string3):\n",
    "    print('Supercalifragilisticexpialidocious is the longest word')\n",
    "elif len(string2) >= len(string1) and len(string2) >= len(string3):\n",
    "    print('Honorificabilitudinitatibus is the longest word')\n",
    "else:\n",
    "    print('Bababadalgharaghtakamminarronnkonn is the longest word')"
   ]
  },
  {
   "cell_type": "code",
   "execution_count": 16,
   "id": "07736db3",
   "metadata": {},
   "outputs": [
    {
     "name": "stdout",
     "output_type": "stream",
     "text": [
      "Bartok comes first in the dictionary.\n",
      "Buxtehude comes last in the dictionary.\n"
     ]
    }
   ],
   "source": [
    "#d.\n",
    "composersDictionary = ['Berlioz','Borodin','Brian','Bartok','Bellini','Buxtehude','Bernstein']\n",
    "composersDictionary.sort()\n",
    "print(composersDictionary[0],'comes first in the dictionary.')\n",
    "print(composersDictionary[6],'comes last in the dictionary.')"
   ]
  },
  {
   "cell_type": "markdown",
   "id": "a1b771f2",
   "metadata": {},
   "source": [
    "# Question no.3"
   ]
  },
  {
   "cell_type": "code",
   "execution_count": 20,
   "id": "6170e2d2",
   "metadata": {},
   "outputs": [
    {
     "name": "stdout",
     "output_type": "stream",
     "text": [
      "Enter length of first side:3\n",
      "Enter length of second side:4\n",
      "Enter length of third side:5\n",
      "Area of the triangle is:  6.0\n"
     ]
    }
   ],
   "source": [
    "import math\n",
    "firstNumber = int(input('Enter length of first side:'))\n",
    "secondNumber = int(input('Enter length of second side:'))\n",
    "thirdNumber = int(input('Enter length of third side:'))\n",
    "def triangleArea(a,b,c):\n",
    "    s = (a+b+c)/2\n",
    "    area = math.sqrt(s*(s-a)*(s-b)*(s-c))\n",
    "    print('Area of the triangle is: ', area)\n",
    "triangleArea(firstNumber, secondNumber, thirdNumber)"
   ]
  },
  {
   "cell_type": "markdown",
   "id": "5d580d47",
   "metadata": {},
   "source": [
    "# Question no.4"
   ]
  },
  {
   "cell_type": "code",
   "execution_count": 22,
   "id": "8382871e",
   "metadata": {},
   "outputs": [
    {
     "name": "stdout",
     "output_type": "stream",
     "text": [
      "Enter the first element:2\n",
      "Enter the second element:3\n",
      "Enter the third element:5\n",
      "Enter the fourth element:6\n",
      "Enter the fifth element:8\n",
      "Even numbers are [2, 6, 8]\n",
      "Odd numbers are [3, 5]\n"
     ]
    }
   ],
   "source": [
    "firstElement = int(input('Enter the first element:'))\n",
    "secondElement = int(input('Enter the second element:'))\n",
    "thirdElement = int(input('Enter the third element:'))\n",
    "fourthElement = int(input('Enter the fourth element:'))\n",
    "fifthElement = int(input('Enter the fifth element:'))\n",
    "list = [firstElement, secondElement, thirdElement, fourthElement, fifthElement]\n",
    "listofEven = []\n",
    "listofOdd = []\n",
    "for i in list:\n",
    "    if i%2==0:\n",
    "     listofEven.append(i)\n",
    "    else:\n",
    "     listofOdd.append(i)\n",
    "print('Even numbers are', listofEven)\n",
    "print('Odd numbers are', listofOdd)"
   ]
  },
  {
   "cell_type": "markdown",
   "id": "038f1137",
   "metadata": {},
   "source": [
    "# Question no.5"
   ]
  },
  {
   "cell_type": "code",
   "execution_count": 26,
   "id": "0b289996",
   "metadata": {},
   "outputs": [
    {
     "name": "stdout",
     "output_type": "stream",
     "text": [
      "Enter x: -1\n",
      "Enter y: -1\n",
      "Enter x1: 0\n",
      "Enter y1: 0\n",
      "Enter x2: 2\n",
      "Enter y2: 3\n",
      "False\n",
      "False\n",
      "True\n"
     ]
    }
   ],
   "source": [
    "#a.\n",
    "x = int(input('Enter x: '))\n",
    "y = int(input('Enter y: '))\n",
    "x1 = int(input('Enter x1: '))\n",
    "y1 = int(input('Enter y1: '))\n",
    "x2 = int(input('Enter x2: '))\n",
    "y2 = int(input('Enter y2: '))\n",
    "def inside(x,y,x1,y1,x2,y2):\n",
    "    if (x > x1 and x < x2) and (y > y1 and y < y2):\n",
    "        print('True')\n",
    "    else:\n",
    "        print('False')\n",
    "inside(x,y,x1,y1,x2,y2)\n",
    "\n",
    "#b.\n",
    "inside (1,1,0.3,0.5,1.1,0.7)\n",
    "inside (1,1,0.5,0.2,1.1,2)"
   ]
  },
  {
   "cell_type": "markdown",
   "id": "097a35d8",
   "metadata": {},
   "source": [
    "# Question no.6"
   ]
  },
  {
   "cell_type": "code",
   "execution_count": 28,
   "id": "88dab385",
   "metadata": {},
   "outputs": [
    {
     "name": "stdout",
     "output_type": "stream",
     "text": [
      "Enter a word : apple\n",
      "appleway\n"
     ]
    }
   ],
   "source": [
    "vowels = ['a','e','i','o','u']\n",
    "def pig():\n",
    "    string = input('Enter a word : ')\n",
    "    string = string.lower()\n",
    "    if string[0] in vowels:\n",
    "        string += 'way'\n",
    "        print(string)\n",
    "    else:\n",
    "        result = string[1:]\n",
    "        result = result + string[0] + 'ay'\n",
    "        print(result)\n",
    "pig()"
   ]
  },
  {
   "cell_type": "markdown",
   "id": "5aace5ad",
   "metadata": {},
   "source": [
    "# Question no. 7"
   ]
  },
  {
   "cell_type": "code",
   "execution_count": 24,
   "id": "d14d1aae",
   "metadata": {},
   "outputs": [
    {
     "name": "stdout",
     "output_type": "stream",
     "text": [
      "There are 15 patients of blood type A.\n",
      "There are 1 patients of blood type B.\n",
      "There are 13 patients of blood type AB.\n",
      "There are 15 patients of blood type O.\n",
      "There are 0 patients of blood type OO.\n"
     ]
    }
   ],
   "source": [
    "def bldcount():\n",
    "    file = open('bloodtype1.txt','r')\n",
    "    list = file.readlines()\n",
    "    for i in list:\n",
    "        bloodType = i.split()\n",
    "bloodA = bloodType.count('A')\n",
    "bloodB = bloodType.count('B')\n",
    "bloodAB = bloodType.count('AB')\n",
    "bloodO = bloodType.count('O')\n",
    "bloodOO = bloodType.count('OO')\n",
    "print('There are',bloodA,'patients of blood type A.')\n",
    "print('There are',bloodB,'patients of blood type B.')\n",
    "print('There are',bloodAB,'patients of blood type AB.')\n",
    "print('There are',bloodO,'patients of blood type O.')\n",
    "print('There are',bloodOO,'patients of blood type OO.')"
   ]
  },
  {
   "cell_type": "markdown",
   "id": "54761dd5",
   "metadata": {},
   "source": [
    "# Question no. 8"
   ]
  },
  {
   "cell_type": "code",
   "execution_count": 15,
   "id": "17b8ef25",
   "metadata": {},
   "outputs": [
    {
     "name": "stdout",
     "output_type": "stream",
     "text": [
      "122.96544\n",
      "1.241401\n"
     ]
    }
   ],
   "source": [
    "def curconv(currency, amount):\n",
    "    conversion_rates = {}\n",
    "    with open(\"currencies.txt\") as f:\n",
    "        for line in f:\n",
    "            parts = line.strip().split(\"\\t\");\n",
    "            conversion_rates[parts[0]] = float(parts[1])\n",
    "    return amount * conversion_rates.get(currency, 1);\n",
    "\n",
    "print(curconv('EUR',100))\n",
    "print(curconv('JPY',100))"
   ]
  },
  {
   "cell_type": "markdown",
   "id": "ed1dd78e",
   "metadata": {},
   "source": [
    "# Question no. 9 "
   ]
  },
  {
   "cell_type": "code",
   "execution_count": 2,
   "id": "07953c01",
   "metadata": {},
   "outputs": [
    {
     "ename": "SyntaxError",
     "evalue": "invalid syntax (2423504655.py, line 1)",
     "output_type": "error",
     "traceback": [
      "\u001b[1;36m  File \u001b[1;32m\"C:\\Users\\12499\\AppData\\Local\\Temp\\ipykernel_17592\\2423504655.py\"\u001b[1;36m, line \u001b[1;32m1\u001b[0m\n\u001b[1;33m    a. 6 +'a'\u001b[0m\n\u001b[1;37m       ^\u001b[0m\n\u001b[1;31mSyntaxError\u001b[0m\u001b[1;31m:\u001b[0m invalid syntax\n"
     ]
    }
   ],
   "source": [
    "#a. \n",
    "6 +'a'"
   ]
  },
  {
   "cell_type": "code",
   "execution_count": 4,
   "id": "f185144b",
   "metadata": {},
   "outputs": [
    {
     "ename": "IndexError",
     "evalue": "list index out of range",
     "output_type": "error",
     "traceback": [
      "\u001b[1;31m---------------------------------------------------------------------------\u001b[0m",
      "\u001b[1;31mIndexError\u001b[0m                                Traceback (most recent call last)",
      "\u001b[1;32m~\\AppData\\Local\\Temp\\ipykernel_17592\\191109870.py\u001b[0m in \u001b[0;36m<module>\u001b[1;34m\u001b[0m\n\u001b[0;32m      1\u001b[0m \u001b[1;31m#b.\u001b[0m\u001b[1;33m\u001b[0m\u001b[1;33m\u001b[0m\u001b[0m\n\u001b[0;32m      2\u001b[0m \u001b[0mlist\u001b[0m \u001b[1;33m=\u001b[0m \u001b[1;33m[\u001b[0m\u001b[1;36m1\u001b[0m\u001b[1;33m,\u001b[0m\u001b[1;36m2\u001b[0m\u001b[1;33m,\u001b[0m\u001b[1;36m3\u001b[0m\u001b[1;33m,\u001b[0m\u001b[1;36m4\u001b[0m\u001b[1;33m,\u001b[0m\u001b[1;36m5\u001b[0m\u001b[1;33m,\u001b[0m\u001b[1;36m6\u001b[0m\u001b[1;33m,\u001b[0m\u001b[1;36m7\u001b[0m\u001b[1;33m,\u001b[0m\u001b[1;36m8\u001b[0m\u001b[1;33m,\u001b[0m\u001b[1;36m9\u001b[0m\u001b[1;33m,\u001b[0m\u001b[1;36m10\u001b[0m\u001b[1;33m]\u001b[0m\u001b[1;33m\u001b[0m\u001b[1;33m\u001b[0m\u001b[0m\n\u001b[1;32m----> 3\u001b[1;33m \u001b[0mshow\u001b[0m \u001b[1;33m=\u001b[0m \u001b[0mlist\u001b[0m\u001b[1;33m[\u001b[0m\u001b[1;36m12\u001b[0m\u001b[1;33m]\u001b[0m\u001b[1;33m\u001b[0m\u001b[1;33m\u001b[0m\u001b[0m\n\u001b[0m\u001b[0;32m      4\u001b[0m \u001b[0mprint\u001b[0m\u001b[1;33m(\u001b[0m\u001b[0mshow\u001b[0m\u001b[1;33m)\u001b[0m\u001b[1;33m\u001b[0m\u001b[1;33m\u001b[0m\u001b[0m\n",
      "\u001b[1;31mIndexError\u001b[0m: list index out of range"
     ]
    }
   ],
   "source": [
    "#b. \n",
    "list = [1,2,3,4,5,6,7,8,9,10]\n",
    "show = list[12]\n",
    "print(show)"
   ]
  },
  {
   "cell_type": "code",
   "execution_count": 5,
   "id": "c3618f46",
   "metadata": {},
   "outputs": [
    {
     "ename": "ValueError",
     "evalue": "math domain error",
     "output_type": "error",
     "traceback": [
      "\u001b[1;31m---------------------------------------------------------------------------\u001b[0m",
      "\u001b[1;31mValueError\u001b[0m                                Traceback (most recent call last)",
      "\u001b[1;32m~\\AppData\\Local\\Temp\\ipykernel_17592\\2975877967.py\u001b[0m in \u001b[0;36m<module>\u001b[1;34m\u001b[0m\n\u001b[0;32m      1\u001b[0m \u001b[1;31m#c.\u001b[0m\u001b[1;33m\u001b[0m\u001b[1;33m\u001b[0m\u001b[0m\n\u001b[0;32m      2\u001b[0m \u001b[1;32mimport\u001b[0m \u001b[0mmath\u001b[0m\u001b[1;33m\u001b[0m\u001b[1;33m\u001b[0m\u001b[0m\n\u001b[1;32m----> 3\u001b[1;33m \u001b[0mmath\u001b[0m\u001b[1;33m.\u001b[0m\u001b[0msqrt\u001b[0m\u001b[1;33m(\u001b[0m\u001b[1;33m-\u001b[0m\u001b[1;36m1.0\u001b[0m\u001b[1;33m)\u001b[0m\u001b[1;33m\u001b[0m\u001b[1;33m\u001b[0m\u001b[0m\n\u001b[0m",
      "\u001b[1;31mValueError\u001b[0m: math domain error"
     ]
    }
   ],
   "source": [
    "#c. \n",
    "import math\n",
    "math.sqrt(-1.0)"
   ]
  },
  {
   "cell_type": "code",
   "execution_count": 6,
   "id": "ae37770a",
   "metadata": {},
   "outputs": [
    {
     "ename": "NameError",
     "evalue": "name 'x' is not defined",
     "output_type": "error",
     "traceback": [
      "\u001b[1;31m---------------------------------------------------------------------------\u001b[0m",
      "\u001b[1;31mNameError\u001b[0m                                 Traceback (most recent call last)",
      "\u001b[1;32m~\\AppData\\Local\\Temp\\ipykernel_17592\\1088505809.py\u001b[0m in \u001b[0;36m<module>\u001b[1;34m\u001b[0m\n\u001b[0;32m      1\u001b[0m \u001b[1;31m#d.\u001b[0m\u001b[1;33m\u001b[0m\u001b[1;33m\u001b[0m\u001b[0m\n\u001b[0;32m      2\u001b[0m \u001b[0mstr\u001b[0m \u001b[1;33m=\u001b[0m \u001b[1;34m'Data Programming'\u001b[0m\u001b[1;33m\u001b[0m\u001b[1;33m\u001b[0m\u001b[0m\n\u001b[1;32m----> 3\u001b[1;33m \u001b[0mprint\u001b[0m\u001b[1;33m(\u001b[0m\u001b[0mx\u001b[0m\u001b[1;33m)\u001b[0m\u001b[1;33m\u001b[0m\u001b[1;33m\u001b[0m\u001b[0m\n\u001b[0m",
      "\u001b[1;31mNameError\u001b[0m: name 'x' is not defined"
     ]
    }
   ],
   "source": [
    "#d. \n",
    "str = 'Data Programming'\n",
    "print(x)"
   ]
  },
  {
   "cell_type": "code",
   "execution_count": 9,
   "id": "9f63a4cd",
   "metadata": {
    "scrolled": true
   },
   "outputs": [
    {
     "ename": "FileNotFoundError",
     "evalue": "[Errno 2] No such file or directory: 'problemset-1.txt'",
     "output_type": "error",
     "traceback": [
      "\u001b[1;31m---------------------------------------------------------------------------\u001b[0m",
      "\u001b[1;31mFileNotFoundError\u001b[0m                         Traceback (most recent call last)",
      "\u001b[1;32m~\\AppData\\Local\\Temp\\ipykernel_17824\\3536238935.py\u001b[0m in \u001b[0;36m<module>\u001b[1;34m\u001b[0m\n\u001b[0;32m      1\u001b[0m \u001b[1;31m#e.\u001b[0m\u001b[1;33m\u001b[0m\u001b[1;33m\u001b[0m\u001b[0m\n\u001b[1;32m----> 2\u001b[1;33m \u001b[0mf\u001b[0m \u001b[1;33m=\u001b[0m \u001b[0mopen\u001b[0m\u001b[1;33m(\u001b[0m\u001b[1;34m'problemset-1.txt'\u001b[0m\u001b[1;33m)\u001b[0m\u001b[1;33m\u001b[0m\u001b[1;33m\u001b[0m\u001b[0m\n\u001b[0m",
      "\u001b[1;31mFileNotFoundError\u001b[0m: [Errno 2] No such file or directory: 'problemset-1.txt'"
     ]
    }
   ],
   "source": [
    "#e. \n",
    "f = open('problemset-1.txt')"
   ]
  },
  {
   "cell_type": "markdown",
   "id": "b696578a",
   "metadata": {},
   "source": [
    "# Question no. 10"
   ]
  },
  {
   "cell_type": "code",
   "execution_count": 31,
   "id": "18bbf40d",
   "metadata": {},
   "outputs": [
    {
     "name": "stdout",
     "output_type": "stream",
     "text": [
      "[1, 1, 1, 3, 5, 1, 1, 2, 1, 0, 1, 0, 1, 2, 4, 0, 1, 2, 0, 3, 1, 0, 1, 1, 0, 0]\n"
     ]
    }
   ],
   "source": [
    "letters = 'abcdefghijklmnopqrstuvwxyz'\n",
    "def frequencies(string):\n",
    "    freqList = [0]*26\n",
    "    for char in string:\n",
    "        if char.lower() in letters:\n",
    "            freqList[letters.index(char.lower())]=freqList[letters.index(char.lower())]+1\n",
    "            \n",
    "    return freqList\n",
    "print(frequencies('The quick red fox got bored and went home'))"
   ]
  },
  {
   "cell_type": "markdown",
   "id": "c9b1c766",
   "metadata": {},
   "source": []
  },
  {
   "cell_type": "code",
   "execution_count": null,
   "id": "382a546c",
   "metadata": {},
   "outputs": [],
   "source": []
  },
  {
   "cell_type": "code",
   "execution_count": 55,
   "id": "6e2ea1aa",
   "metadata": {},
   "outputs": [],
   "source": []
  },
  {
   "cell_type": "code",
   "execution_count": null,
   "id": "a8a7f201",
   "metadata": {},
   "outputs": [],
   "source": []
  }
 ],
 "metadata": {
  "kernelspec": {
   "display_name": "Python 3 (ipykernel)",
   "language": "python",
   "name": "python3"
  },
  "language_info": {
   "codemirror_mode": {
    "name": "ipython",
    "version": 3
   },
   "file_extension": ".py",
   "mimetype": "text/x-python",
   "name": "python",
   "nbconvert_exporter": "python",
   "pygments_lexer": "ipython3",
   "version": "3.9.13"
  }
 },
 "nbformat": 4,
 "nbformat_minor": 5
}
